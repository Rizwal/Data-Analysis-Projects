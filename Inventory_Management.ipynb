{
 "cells": [
  {
   "cell_type": "markdown",
   "id": "80f2e88a",
   "metadata": {},
   "source": [
    "## Product Details\n",
    "1.Product ID\n",
    "\n",
    "2.Name of the product\n",
    "\n",
    "3.Price of the product\n",
    "\n",
    "4.Quantity of the product"
   ]
  },
  {
   "cell_type": "code",
   "execution_count": 6,
   "id": "e435d1ff",
   "metadata": {},
   "outputs": [
    {
     "name": "stdout",
     "output_type": "stream",
     "text": [
      "Enter your name:Ashish\n",
      "Enter your Phone No.:9876543210\n",
      "Enter your email id:ashish@gmail.com\n",
      "Enter Product ID:7\n",
      "Enter product quantity:6\n",
      "----------------------------------------\n",
      "Product ID        : 7\n",
      "Product Name      :  Flour\n",
      "Product Price     :  3\n",
      "Product Quantity  : 6\n",
      "----------------------------------------\n",
      "Billing Amount    : 18\n",
      "----------------------------------------\n",
      "Thanks for shopping!\n",
      "------------------\n",
      "Inventory Updated\n",
      "------------------\n"
     ]
    }
   ],
   "source": [
    "import time\n",
    "\n",
    "fd=open(\"Inventory.txt\",'r')\n",
    "products=fd.read().split(\"\\n\")\n",
    "fd.close() \n",
    "\n",
    "ui_username=input(\"Enter your name:\")\n",
    "ui_phone=int(input(\"Enter your Phone No.:\"))\n",
    "ui_mail=input(\"Enter your email id:\")\n",
    "\n",
    "user_id=input(\"Enter Product ID:\")\n",
    "user_qn=input(\"Enter product quantity:\")\n",
    "update_prod_lst=[]\n",
    "\n",
    "for product in products:\n",
    "    product_details=product.split(\",\")\n",
    "    if(product_details[0]==user_id):\n",
    "        if(int(user_qn)<=int(product_details[3])):\n",
    "            print(\"----------------------------------------\")\n",
    "            print(\"Product ID        :\",product_details[0])\n",
    "            print(\"Product Name      :\",product_details[1])\n",
    "            print(\"Product Price     :\",product_details[2])\n",
    "            print(\"Product Quantity  :\",user_qn)\n",
    "            print(\"----------------------------------------\")\n",
    "            print(\"Billing Amount    :\",int(user_qn) * int(product_details[2]))\n",
    "            print(\"----------------------------------------\")\n",
    "            print(\"Thanks for shopping!\")\n",
    "        \n",
    "            product_details[3]=str(int(product_details[3])-int(user_qn))\n",
    "            \n",
    "            fd = open(\"Sales.txt\",'a')\n",
    "            sales_detail = ui_username +\",\"+ str(ui_phone) +\",\"+ ui_mail +\",\"+product_details[1] +\",\"+ user_id +\",\"+ user_qn +\",\"+ str(int(user_qn) * int(product_details[2]))+\",\"+time.ctime()+ \"\\n\"\n",
    "            fd.write(sales_detail)\n",
    "            fd.close()\n",
    "            \n",
    "        else:\n",
    "            print(\"Sorry,We are not having enough quantity\")\n",
    "            print(\"We are having only\",product_details[3],\"products\")\n",
    "            print(\"Please check later!\")\n",
    "    \n",
    "    update_prod_lst.append(product_details)\n",
    "\n",
    "lst=[]\n",
    "for i in update_prod_lst:\n",
    "    prod=i[0]+\",\"+i[1]+\",\"+i[2]+\",\"+i[3]+\"\\n\"\n",
    "    lst.append(prod)\n",
    "    \n",
    "lst[-1]=lst[-1][:-1]\n",
    "\n",
    "fd=open(\"Inventory.txt\",'w')\n",
    "for i in lst:\n",
    "    fd.write(i)\n",
    "fd.close()\n",
    "\n",
    "print(\"------------------\")\n",
    "print(\"Inventory Updated\")\n",
    "print(\"------------------\")"
   ]
  },
  {
   "cell_type": "code",
   "execution_count": null,
   "id": "83839e3b",
   "metadata": {},
   "outputs": [],
   "source": []
  }
 ],
 "metadata": {
  "kernelspec": {
   "display_name": "Python 3 (ipykernel)",
   "language": "python",
   "name": "python3"
  },
  "language_info": {
   "codemirror_mode": {
    "name": "ipython",
    "version": 3
   },
   "file_extension": ".py",
   "mimetype": "text/x-python",
   "name": "python",
   "nbconvert_exporter": "python",
   "pygments_lexer": "ipython3",
   "version": "3.10.0"
  }
 },
 "nbformat": 4,
 "nbformat_minor": 5
}
